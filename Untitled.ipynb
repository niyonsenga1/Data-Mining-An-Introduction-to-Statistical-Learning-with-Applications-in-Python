{
 "cells": [
  {
   "cell_type": "markdown",
   "id": "5517a958-e4ee-4058-b734-f8ec2698cf6a",
   "metadata": {},
   "source": [
    "# ✅ Step-by-step: Load and View Boston Housing Dataset"
   ]
  },
  {
   "cell_type": "markdown",
   "id": "65d2bb47-1b86-477a-baec-d9dee0f148e9",
   "metadata": {},
   "source": [
    "## (a) Load the Boston dataset from the ISLP library"
   ]
  },
  {
   "cell_type": "code",
   "execution_count": 3,
   "id": "46d95a7c-56b3-4e00-bce0-0a319ca5756e",
   "metadata": {},
   "outputs": [
    {
     "ename": "ModuleNotFoundError",
     "evalue": "No module named 'ISLP'",
     "output_type": "error",
     "traceback": [
      "\u001b[1;31m---------------------------------------------------------------------------\u001b[0m",
      "\u001b[1;31mModuleNotFoundError\u001b[0m                       Traceback (most recent call last)",
      "Cell \u001b[1;32mIn[3], line 1\u001b[0m\n\u001b[1;32m----> 1\u001b[0m \u001b[38;5;28;01mfrom\u001b[39;00m \u001b[38;5;21;01mISLP\u001b[39;00m\u001b[38;5;21;01m.\u001b[39;00m\u001b[38;5;21;01mdata\u001b[39;00m \u001b[38;5;28;01mimport\u001b[39;00m Boston\n\u001b[0;32m      2\u001b[0m \u001b[38;5;28;01mimport\u001b[39;00m \u001b[38;5;21;01mpandas\u001b[39;00m \u001b[38;5;28;01mas\u001b[39;00m \u001b[38;5;21;01mpd\u001b[39;00m\n\u001b[0;32m      3\u001b[0m \u001b[38;5;28;01mimport\u001b[39;00m \u001b[38;5;21;01mmatplotlib\u001b[39;00m\u001b[38;5;21;01m.\u001b[39;00m\u001b[38;5;21;01mpyplot\u001b[39;00m \u001b[38;5;28;01mas\u001b[39;00m \u001b[38;5;21;01mplt\u001b[39;00m\n",
      "\u001b[1;31mModuleNotFoundError\u001b[0m: No module named 'ISLP'"
     ]
    }
   ],
   "source": [
    "from ISLP.data import Boston\n",
    "import pandas as pd\n",
    "import matplotlib.pyplot as plt\n",
    "import seaborn as sns\n",
    "\n",
    "# Load the Boston dataset into a DataFrame\n",
    "boston_df = Boston.copy()"
   ]
  },
  {
   "cell_type": "code",
   "execution_count": null,
   "id": "8662dbf9-8090-4bff-acde-9cff5b860665",
   "metadata": {},
   "outputs": [],
   "source": [
    "pip install ISLP"
   ]
  },
  {
   "cell_type": "markdown",
   "id": "8705605d-b349-4ef2-9905-b91affc477a8",
   "metadata": {},
   "source": [
    "## ✨ STEP 2: View dataset shape and top rows (for question b)"
   ]
  },
  {
   "cell_type": "code",
   "execution_count": null,
   "id": "3f0a21af-287b-483e-b568-2907542172ce",
   "metadata": {},
   "outputs": [],
   "source": [
    "print(\"✅ Dataset shape:\", df.shape)  # Number of rows and columns\n",
    "print(\"\\n✅ First 5 rows:\")\n",
    "df.head()"
   ]
  },
  {
   "cell_type": "code",
   "execution_count": null,
   "id": "a7459032-2e77-48f7-83f1-df27ba7693a1",
   "metadata": {},
   "outputs": [],
   "source": [
    "import seaborn as sns\n",
    "import matplotlib.pyplot as plt\n",
    "\n",
    "# Select a few important predictors for visual clarity\n",
    "subset = df[['CRIM', 'RM', 'TAX', 'PTRATIO', 'LSTAT']]\n",
    "sns.pairplot(subset)\n",
    "plt.suptitle(\"Pairwise Scatterplots\", y=1.02)\n",
    "plt.tight_layout()\n",
    "plt.show()\n"
   ]
  },
  {
   "cell_type": "code",
   "execution_count": null,
   "id": "8cdaec4c-de17-4b0b-9ef3-95100e68ceb6",
   "metadata": {},
   "outputs": [],
   "source": [
    "# Compute correlations with CRIM\n",
    "correlations = df.corr()\n",
    "crim_corr = correlations['CRIM'].sort_values(ascending=False)\n",
    "crim_corr"
   ]
  },
  {
   "cell_type": "code",
   "execution_count": null,
   "id": "ac57b1a8-d6a4-4f12-aa7d-b319f416a37d",
   "metadata": {},
   "outputs": [],
   "source": [
    "# sns.heatmap(df.corr(), annot=True, cmap='coolwarm')"
   ]
  },
  {
   "cell_type": "code",
   "execution_count": null,
   "id": "e3788f94-4247-44a8-a0a3-f4158b1f96e7",
   "metadata": {},
   "outputs": [],
   "source": [
    "# Max values and basic stats for CRIM, TAX, PTRATIO\n",
    "print(\"📌 CRIM (Crime Rate) Summary:\\n\", df['CRIM'].describe(), \"\\n\")\n",
    "print(\"📌 TAX (Tax Rate) Summary:\\n\", df['TAX'].describe(), \"\\n\")\n",
    "print(\"📌 PTRATIO (Pupil-Teacher Ratio) Summary:\\n\", df['PTRATIO'].describe())\n"
   ]
  }
 ],
 "metadata": {
  "kernelspec": {
   "display_name": "Python [conda env:base] *",
   "language": "python",
   "name": "conda-base-py"
  },
  "language_info": {
   "codemirror_mode": {
    "name": "ipython",
    "version": 3
   },
   "file_extension": ".py",
   "mimetype": "text/x-python",
   "name": "python",
   "nbconvert_exporter": "python",
   "pygments_lexer": "ipython3",
   "version": "3.12.7"
  }
 },
 "nbformat": 4,
 "nbformat_minor": 5
}
